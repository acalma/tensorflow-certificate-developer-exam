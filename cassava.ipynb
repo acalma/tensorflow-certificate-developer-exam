{
 "cells": [
  {
   "cell_type": "code",
   "id": "initial_id",
   "metadata": {
    "collapsed": true,
    "ExecuteTime": {
     "end_time": "2024-05-21T09:21:16.480705Z",
     "start_time": "2024-05-21T09:21:15.933754Z"
    }
   },
   "source": [
    "import tensorflow as tf\n",
    "from keras.src.preprocessing.image import ImageDataGenerator\n",
    "from tensorflow.python.keras.callbacks import EarlyStopping, ModelCheckpoint\n",
    "from history import plot_history, save_history\n",
    "import tensorflow_datasets as tfds\n",
    "\n",
    "import os\n",
    "os.environ['TF_CPP_MIN_LOG_LEVEL'] = '2'"
   ],
   "outputs": [],
   "execution_count": 3
  },
  {
   "metadata": {
    "ExecuteTime": {
     "end_time": "2024-05-21T10:37:17.229080Z",
     "start_time": "2024-05-21T10:37:16.623529Z"
    }
   },
   "cell_type": "code",
   "source": [
    "import tensorflow_datasets as tfds\n",
    "# Load the cassava dataset\n",
    "\n",
    "BATCH_SIZE = 32\n",
    "\n",
    "training_ds, info = tfds.load('cassava', with_info=True, as_supervised=True, split='train')\n",
    "test_ds = tfds.load('cassava', as_supervised=True, split='test')\n",
    "validation_ds = tfds.load('cassava', as_supervised=True, split='validation')\n",
    "\n",
    "# Define data augmentation operations\n",
    "data_augmentation = tf.keras.Sequential([\n",
    "  tf.keras.layers.experimental.preprocessing.Rescaling(1./255),\n",
    "  tf.keras.layers.experimental.preprocessing.RandomFlip('horizontal'),\n",
    "  tf.keras.layers.experimental.preprocessing.RandomRotation(0.2),\n",
    "])\n",
    "\n",
    "# Apply data augmentation\n",
    "def augment_training(image, label):\n",
    "    image = data_augmentation(image)\n",
    "    image = tf.image.resize(image, (500, 500))\n",
    "    label = tf.one_hot(label, 3)  # One-hot encode the labels\n",
    "    return image, label\n",
    "\n",
    "rescale_augmentation = tf.keras.Sequential([\n",
    "    tf.keras.layers.experimental.preprocessing.Rescaling(1./255),\n",
    "])\n",
    "\n",
    "def augment_rescale(image, label):\n",
    "    image = rescale_augmentation(image)\n",
    "    image = tf.image.resize(image, (500, 500))\n",
    "    label = tf.one_hot(label, 3)  # One-hot encode the labels\n",
    "    return image, label\n",
    "\n",
    "training_augmented = training_ds.map(augment_training)\n",
    "test_augmented = test_ds.map(augment_rescale)\n",
    "validation_augmented = validation_ds.map(augment_rescale)\n",
    "\n",
    "\n",
    "training_augmented = training_augmented.batch(BATCH_SIZE)\n",
    "test_augmented = test_augmented.batch(BATCH_SIZE)\n",
    "validation_augmented = validation_augmented.batch(BATCH_SIZE)\n",
    "\n"
   ],
   "id": "fe98362be4f7f0cf",
   "outputs": [],
   "execution_count": 4
  },
  {
   "metadata": {
    "ExecuteTime": {
     "end_time": "2024-05-21T10:03:55.635079Z",
     "start_time": "2024-05-21T10:03:55.633461Z"
    }
   },
   "cell_type": "code",
   "source": [],
   "id": "6899b01c884b1e5d",
   "outputs": [],
   "execution_count": 65
  },
  {
   "metadata": {
    "ExecuteTime": {
     "end_time": "2024-05-21T10:03:55.941021Z",
     "start_time": "2024-05-21T10:03:55.938948Z"
    }
   },
   "cell_type": "code",
   "source": [],
   "id": "bdddd85d44c3fc42",
   "outputs": [],
   "execution_count": 65
  },
  {
   "metadata": {
    "ExecuteTime": {
     "end_time": "2024-05-21T10:03:56.375314Z",
     "start_time": "2024-05-21T10:03:56.372569Z"
    }
   },
   "cell_type": "code",
   "source": [
    "def compile_model(model: tf.keras.Sequential):\n",
    "    model.compile(optimizer='adam',\n",
    "                  loss='categorical_crossentropy',\n",
    "                  metrics=['accuracy'])\n",
    "    print(model.summary())\n",
    "    return model"
   ],
   "id": "a392baf0ae7b7b95",
   "outputs": [],
   "execution_count": 66
  },
  {
   "metadata": {
    "ExecuteTime": {
     "end_time": "2024-05-21T10:14:19.410751Z",
     "start_time": "2024-05-21T10:14:19.406029Z"
    }
   },
   "cell_type": "code",
   "source": [
    "def create_model():\n",
    "    new_model = tf.keras.Sequential([\n",
    "        tf.keras.layers.InputLayer((500, 500, 3)),\n",
    "        # tf.keras.layers.experimental.preprocessing.Resizing(125, 125),\n",
    "        # tf.keras.layers.Conv2D(64, 3, activation='relu'),\n",
    "        # tf.keras.layers.MaxPooling2D(),\n",
    "        # tf.keras.layers.Conv2D(128, 3, activation='relu'),\n",
    "        # tf.keras.layers.MaxPooling2D(),\n",
    "        # tf.keras.layers.Conv2D(128, 3, activation='relu'),\n",
    "        # tf.keras.layers.MaxPooling2D(),\n",
    "        tf.keras.layers.Flatten(),\n",
    "        # tf.keras.layers.Dense(256, activation='relu'),\n",
    "        tf.keras.layers.Dense(128, activation='relu'),\n",
    "        tf.keras.layers.Dense(3, activation='softmax')\n",
    "    ])\n",
    "    return compile_model(new_model)"
   ],
   "id": "ed9bd567bc5dddc7",
   "outputs": [],
   "execution_count": 89
  },
  {
   "metadata": {
    "ExecuteTime": {
     "end_time": "2024-05-21T10:14:19.784730Z",
     "start_time": "2024-05-21T10:14:19.782215Z"
    }
   },
   "cell_type": "code",
   "source": [
    "def save_model(model, name, history, test_data):\n",
    "    test_loss, test_acc = model.evaluate(test_data)\n",
    "\n",
    "    # Save model information\n",
    "    save_name = f'models/ibeans/{name}-{len(history.epoch):02d}-{test_acc:0.4f}'\n",
    "    model.save(f'{save_name}.h5')\n",
    "\n",
    "    # Save history information\n",
    "    save_history(history, save_name)"
   ],
   "id": "6c0d656a2b4a0dfd",
   "outputs": [],
   "execution_count": 90
  },
  {
   "metadata": {
    "ExecuteTime": {
     "end_time": "2024-05-21T10:29:17.882838Z",
     "start_time": "2024-05-21T10:29:17.402570Z"
    }
   },
   "cell_type": "code",
   "source": [
    "model = create_model()\n",
    "\n",
    "model_name = 'cassava-01'\n",
    "checkpoint = tf.keras.callbacks.ModelCheckpoint(filepath=f'ckpts/cassava/{model_name}-'+'{epoch:02d}-{val_accuracy:.4f}')"
   ],
   "id": "eb602c5020e7902",
   "outputs": [
    {
     "name": "stdout",
     "output_type": "stream",
     "text": [
      "Model: \"sequential_28\"\n",
      "_________________________________________________________________\n",
      " Layer (type)                Output Shape              Param #   \n",
      "=================================================================\n",
      " flatten_14 (Flatten)        (None, 750000)            0         \n",
      "                                                                 \n",
      " dense_38 (Dense)            (None, 128)               96000128  \n",
      "                                                                 \n",
      " dense_39 (Dense)            (None, 3)                 387       \n",
      "                                                                 \n",
      "=================================================================\n",
      "Total params: 96000515 (366.21 MB)\n",
      "Trainable params: 96000515 (366.21 MB)\n",
      "Non-trainable params: 0 (0.00 Byte)\n",
      "_________________________________________________________________\n",
      "None\n"
     ]
    }
   ],
   "execution_count": 104
  },
  {
   "metadata": {
    "ExecuteTime": {
     "end_time": "2024-05-21T10:31:03.131828Z",
     "start_time": "2024-05-21T10:29:43.811719Z"
    }
   },
   "cell_type": "code",
   "source": [
    "history = model.fit(training_augmented, epochs=1, validation_data=validation_augmented , callbacks=[checkpoint])"
   ],
   "id": "96ee01d5ac6db949",
   "outputs": [
    {
     "name": "stdout",
     "output_type": "stream",
     "text": [
      "177/177 [==============================] - ETA: 0s - loss: 153.5020 - accuracy: 0.2961INFO:tensorflow:Assets written to: ckpts/cassava/cassava-01-01-0.2552/assets\n"
     ]
    },
    {
     "name": "stderr",
     "output_type": "stream",
     "text": [
      "INFO:tensorflow:Assets written to: ckpts/cassava/cassava-01-01-0.2552/assets\n"
     ]
    },
    {
     "name": "stdout",
     "output_type": "stream",
     "text": [
      "177/177 [==============================] - 79s 441ms/step - loss: 153.5020 - accuracy: 0.2961 - val_loss: 345.1518 - val_accuracy: 0.2552\n"
     ]
    }
   ],
   "execution_count": 106
  },
  {
   "metadata": {
    "ExecuteTime": {
     "end_time": "2024-05-21T10:32:47.616288Z",
     "start_time": "2024-05-21T10:32:42.591481Z"
    }
   },
   "cell_type": "code",
   "source": [
    "def save_model(model, name, history, test_data):\n",
    "    test_loss, test_acc = model.evaluate(test_data)\n",
    "\n",
    "    # Save model information\n",
    "    save_name = f'models/cassava/{name}-{len(history.epoch):02d}-{test_acc:0.4f}'\n",
    "    model.save(f'{save_name}.tf')\n",
    "\n",
    "    # Save history information\n",
    "    save_history(history, save_name)\n",
    "    \n",
    "save_model(model, 'cassava-01', history, test_augmented)\n"
   ],
   "id": "bf6d0617a98358f3",
   "outputs": [
    {
     "name": "stdout",
     "output_type": "stream",
     "text": [
      "59/59 [==============================] - 3s 46ms/step - loss: 347.2133 - accuracy: 0.2552\n",
      "INFO:tensorflow:Assets written to: models/cassava/cassava-01-01-0.2552.tf/assets\n"
     ]
    },
    {
     "name": "stderr",
     "output_type": "stream",
     "text": [
      "INFO:tensorflow:Assets written to: models/cassava/cassava-01-01-0.2552.tf/assets\n"
     ]
    }
   ],
   "execution_count": 108
  },
  {
   "metadata": {
    "ExecuteTime": {
     "end_time": "2024-05-21T10:38:53.593576Z",
     "start_time": "2024-05-21T10:38:52.502353Z"
    }
   },
   "cell_type": "code",
   "source": [
    "from history import load_history\n",
    "history_old = load_history('models/cassava/cassava-01-01-0.3252', model_format='.h5')\n"
   ],
   "id": "87f1140d92e8a203",
   "outputs": [],
   "execution_count": 7
  },
  {
   "metadata": {
    "ExecuteTime": {
     "end_time": "2024-05-21T10:38:57.585967Z",
     "start_time": "2024-05-21T10:38:55.971578Z"
    }
   },
   "cell_type": "code",
   "source": [
    "# load model from checkpoint\n",
    "from tensorflow import keras\n",
    "import tensorflow as tf\n",
    "\n",
    "# get model from history\n",
    "old_model = tf.keras.models.load_model('ckpts/cassava/cassava-01-01-0.2552')\n"
   ],
   "id": "a98da53515f89d60",
   "outputs": [],
   "execution_count": 8
  },
  {
   "metadata": {
    "ExecuteTime": {
     "end_time": "2024-05-21T10:38:39.468654Z",
     "start_time": "2024-05-21T10:37:24.566542Z"
    }
   },
   "cell_type": "code",
   "source": [
    "\n",
    "\n",
    "# train model staring with epoch 5 for another 10 epochs\n",
    "history_new = old_model.fit(training_augmented, validation_data=validation_augmented, epochs=2, initial_epoch=1)"
   ],
   "id": "cb9d852ad6c39f75",
   "outputs": [
    {
     "name": "stdout",
     "output_type": "stream",
     "text": [
      "Epoch 2/2\n",
      "177/177 [==============================] - 75s 421ms/step - loss: 243.4014 - accuracy: 0.3006 - val_loss: 75.1443 - val_accuracy: 0.2107\n"
     ]
    }
   ],
   "execution_count": 5
  },
  {
   "metadata": {
    "ExecuteTime": {
     "end_time": "2024-05-21T10:39:00.054189Z",
     "start_time": "2024-05-21T10:39:00.047108Z"
    }
   },
   "cell_type": "code",
   "source": [
    "%load_ext autoreload\n",
    "# append history\n",
    "from history import add_history\n",
    "extended_history = add_history(history_old, history_new)\n"
   ],
   "id": "b3472d4bb7f420b8",
   "outputs": [
    {
     "name": "stdout",
     "output_type": "stream",
     "text": [
      "The autoreload extension is already loaded. To reload it, use:\n",
      "  %reload_ext autoreload\n"
     ]
    }
   ],
   "execution_count": 9
  },
  {
   "metadata": {
    "ExecuteTime": {
     "end_time": "2024-05-21T10:39:02.695395Z",
     "start_time": "2024-05-21T10:39:02.515539Z"
    }
   },
   "cell_type": "code",
   "source": [
    "from history import plot_history\n",
    "plot_history(extended_history)"
   ],
   "id": "3aa1320b5b4df835",
   "outputs": [
    {
     "data": {
      "text/plain": [
       "<Figure size 2400x800 with 2 Axes>"
      ],
      "image/png": "[encoded data removed]"
     },
     "metadata": {},
     "output_type": "display_data"
    }
   ],
   "execution_count": 10
  },
  {
   "metadata": {
    "ExecuteTime": {
     "end_time": "2024-05-21T10:40:07.758311Z",
     "start_time": "2024-05-21T10:40:07.755129Z"
    }
   },
   "cell_type": "code",
   "source": [
    "len(extended_history.epoch)\n"
   ],
   "id": "55833b77002cb59",
   "outputs": [
    {
     "data": {
      "text/plain": [
       "2"
      ]
     },
     "execution_count": 12,
     "metadata": {},
     "output_type": "execute_result"
    }
   ],
   "execution_count": 12
  }
 ],
 "metadata": {
  "kernelspec": {
   "display_name": "Python 3",
   "language": "python",
   "name": "python3"
  },
  "language_info": {
   "codemirror_mode": {
    "name": "ipython",
    "version": 2
   },
   "file_extension": ".py",
   "mimetype": "text/x-python",
   "name": "python",
   "nbconvert_exporter": "python",
   "pygments_lexer": "ipython2",
   "version": "2.7.6"
  }
 },
 "nbformat": 4,
 "nbformat_minor": 5
}
