{
 "cells": [
  {
   "cell_type": "code",
   "execution_count": null,
   "id": "initial_id",
   "metadata": {
    "collapsed": true
   },
   "outputs": [],
   "source": [
    "import tensorflow as tf\n",
    "import pandas as pd\n",
    "import os\n",
    "\n",
    "iris_columns = ['sepal_length', 'sepal_width', 'petal_length', 'petal_width', 'species']\n",
    "label_map = {'Iris-setosa': 0, 'Iris-versicolor': 1, 'Iris-virginica': 2}\n",
    "\n",
    "\n",
    "# Task 1: Retrieve Iris Data from the Internet\n",
    "def retrieve_iris_data():\n",
    "    iris_url = 'https://archive.ics.uci.edu/ml/machine-learning-databases/iris/iris.data'\n",
    "    cache_dir = '.'\n",
    "    cache_subdir = \"data\"\n",
    "\n",
    "    iris_file = tf.keras.utils.get_file('iris.data', iris_url,cache_dir=cache_dir, cache_subdir=cache_subdir)\n",
    "    return iris_file\n",
    "\n",
    "\n",
    "# Task 2: Prepare the Iris Data\n",
    "def parse_iris_data(iris_path):\n",
    "    iris_df = pd.read_csv(iris_path, names=iris_columns)\n",
    "    iris_df.replace(label_map, inplace=True)\n",
    "    return iris_df\n",
    "\n",
    "\n",
    "# Task 3: Load the Iris Data into a TensorFlow Dataset\n",
    "def convert_iris_to_dataset(iris_dataframe):\n",
    "    features = iris_dataframe[iris_columns[:4]]\n",
    "    labels = iris_dataframe[iris_columns[-1]]\n",
    "    iris_dataset = tf.data.Dataset.from_tensor_slices((features,labels))\n",
    "    return iris_dataset\n",
    "\n",
    "\n",
    "if __name__ == \"__main__\":\n",
    "  iris_filepath = retrieve_iris_data()\n",
    "\n",
    "  iris_data = parse_iris_data(iris_filepath)\n",
    "  iris_ds = convert_iris_to_dataset(iris_data)\n"
   ]
  }
 ],
 "metadata": {
  "kernelspec": {
   "display_name": "Python 3",
   "language": "python",
   "name": "python3"
  },
  "language_info": {
   "codemirror_mode": {
    "name": "ipython",
    "version": 2
   },
   "file_extension": ".py",
   "mimetype": "text/x-python",
   "name": "python",
   "nbconvert_exporter": "python",
   "pygments_lexer": "ipython2",
   "version": "2.7.6"
  }
 },
 "nbformat": 4,
 "nbformat_minor": 5
}
