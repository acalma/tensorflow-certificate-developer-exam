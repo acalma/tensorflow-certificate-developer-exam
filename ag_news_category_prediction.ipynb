{
 "cells": [
  {
   "cell_type": "code",
   "id": "initial_id",
   "metadata": {
    "collapsed": true,
    "ExecuteTime": {
     "end_time": "2024-05-15T17:12:47.998929Z",
     "start_time": "2024-05-15T17:12:45.167863Z"
    }
   },
   "source": [
    "import os\n",
    "os.environ['TF_CPP_MIN_LOG_LEVEL'] = '2'\n",
    "import numpy as np\n",
    "# Load the ag_news dataset from tensorflow_datasets\n",
    "import tensorflow_datasets as tfds\n",
    "import tensorflow as tf\n",
    "\n",
    "os.environ['TF_CPP_MIN_LOG_LEVEL'] = '2'\n",
    "\n",
    "# Load the ag_news dataset\n",
    "dataset, info = tfds.load('ag_news_subset', with_info=True, as_supervised=False)\n",
    "train_dataset, test_dataset = dataset['train'], dataset['test']\n"
   ],
   "outputs": [],
   "execution_count": 1
  },
  {
   "metadata": {
    "ExecuteTime": {
     "end_time": "2024-05-15T17:12:48.002501Z",
     "start_time": "2024-05-15T17:12:47.999995Z"
    }
   },
   "cell_type": "code",
   "source": [
    "# Display the dataset info\n",
    "print(info)\n"
   ],
   "id": "e1ad77d1a998f960",
   "outputs": [
    {
     "name": "stdout",
     "output_type": "stream",
     "text": [
      "tfds.core.DatasetInfo(\n",
      "    name='ag_news_subset',\n",
      "    full_name='ag_news_subset/1.0.0',\n",
      "    description=\"\"\"\n",
      "    AG is a collection of more than 1 million news articles. News articles have been\n",
      "    gathered from more than 2000 news sources by ComeToMyHead in more than 1 year of\n",
      "    activity. ComeToMyHead is an academic news search engine which has been running\n",
      "    since July, 2004. The dataset is provided by the academic comunity for research\n",
      "    purposes in data mining (clustering, classification, etc), information retrieval\n",
      "    (ranking, search, etc), xml, data compression, data streaming, and any other\n",
      "    non-commercial activity. For more information, please refer to the link\n",
      "    http://www.di.unipi.it/~gulli/AG_corpus_of_news_articles.html .\n",
      "    \n",
      "    The AG's news topic classification dataset is constructed by Xiang Zhang\n",
      "    (xiang.zhang@nyu.edu) from the dataset above. It is used as a text\n",
      "    classification benchmark in the following paper: Xiang Zhang, Junbo Zhao, Yann\n",
      "    LeCun. Character-level Convolutional Networks for Text Classification. Advances\n",
      "    in Neural Information Processing Systems 28 (NIPS 2015).\n",
      "    \n",
      "    The AG's news topic classification dataset is constructed by choosing 4 largest\n",
      "    classes from the original corpus. Each class contains 30,000 training samples\n",
      "    and 1,900 testing samples. The total number of training samples is 120,000 and\n",
      "    testing 7,600.\n",
      "    \"\"\",\n",
      "    homepage='https://arxiv.org/abs/1509.01626',\n",
      "    data_path='/Users/acalma/tensorflow_datasets/ag_news_subset/1.0.0',\n",
      "    file_format=tfrecord,\n",
      "    download_size=11.24 MiB,\n",
      "    dataset_size=35.79 MiB,\n",
      "    features=FeaturesDict({\n",
      "        'description': Text(shape=(), dtype=string),\n",
      "        'label': ClassLabel(shape=(), dtype=int64, num_classes=4),\n",
      "        'title': Text(shape=(), dtype=string),\n",
      "    }),\n",
      "    supervised_keys=('description', 'label'),\n",
      "    disable_shuffling=False,\n",
      "    splits={\n",
      "        'test': <SplitInfo num_examples=7600, num_shards=1>,\n",
      "        'train': <SplitInfo num_examples=120000, num_shards=1>,\n",
      "    },\n",
      "    citation=\"\"\"@misc{zhang2015characterlevel,\n",
      "        title={Character-level Convolutional Networks for Text Classification},\n",
      "        author={Xiang Zhang and Junbo Zhao and Yann LeCun},\n",
      "        year={2015},\n",
      "        eprint={1509.01626},\n",
      "        archivePrefix={arXiv},\n",
      "        primaryClass={cs.LG}\n",
      "    }\"\"\",\n",
      ")\n"
     ]
    }
   ],
   "execution_count": 2
  },
  {
   "metadata": {
    "ExecuteTime": {
     "end_time": "2024-05-15T17:12:48.813324Z",
     "start_time": "2024-05-15T17:12:48.808455Z"
    }
   },
   "cell_type": "code",
   "source": [
    "import numpy as np\n",
    "def split_features_labels(dataset):\n",
    "    # Extract the features and labels\n",
    "    features = []\n",
    "    labels = []\n",
    "    for example in dataset:\n",
    "        features.append(example['title'].numpy())\n",
    "        labels.append(example['label'].numpy())\n",
    "    features = np.array([x.decode('utf-8') for x in features])\n",
    "    labels = np.array([float(x) for x in labels])\n",
    "    return features, labels"
   ],
   "id": "6dfc648f69ba510b",
   "outputs": [],
   "execution_count": 3
  },
  {
   "metadata": {
    "ExecuteTime": {
     "end_time": "2024-05-15T17:12:56.104827Z",
     "start_time": "2024-05-15T17:12:49.708989Z"
    }
   },
   "cell_type": "code",
   "source": [
    "train_titles, train_labels = split_features_labels(train_dataset)\n",
    "test_titles, test_labels = split_features_labels(test_dataset)"
   ],
   "id": "203da1a9c0c8ef17",
   "outputs": [],
   "execution_count": 4
  },
  {
   "metadata": {
    "ExecuteTime": {
     "end_time": "2024-05-15T17:12:56.156763Z",
     "start_time": "2024-05-15T17:12:56.105855Z"
    }
   },
   "cell_type": "code",
   "source": [
    "title_lengths = [len(feature) for feature in train_titles]\n",
    "min(title_lengths), max(title_lengths)"
   ],
   "id": "8f9a4d8e9a82522f",
   "outputs": [
    {
     "data": {
      "text/plain": [
       "(6, 115)"
      ]
     },
     "execution_count": 5,
     "metadata": {},
     "output_type": "execute_result"
    }
   ],
   "execution_count": 5
  },
  {
   "metadata": {
    "ExecuteTime": {
     "end_time": "2024-05-15T17:12:57.645377Z",
     "start_time": "2024-05-15T17:12:57.001479Z"
    }
   },
   "cell_type": "code",
   "source": [
    "# plot the distribution of the title lengths\n",
    "import matplotlib.pyplot as plt\n",
    "plt.hist(title_lengths, bins=10)"
   ],
   "id": "7fca1f4aa1daf585",
   "outputs": [
    {
     "data": {
      "text/plain": [
       "(array([1.6310e+03, 1.2089e+04, 3.5483e+04, 4.2403e+04, 1.8702e+04,\n",
       "        5.9000e+03, 1.1830e+03, 2.4420e+03, 1.5800e+02, 9.0000e+00]),\n",
       " array([  6. ,  16.9,  27.8,  38.7,  49.6,  60.5,  71.4,  82.3,  93.2,\n",
       "        104.1, 115. ]),\n",
       " <BarContainer object of 10 artists>)"
      ]
     },
     "execution_count": 6,
     "metadata": {},
     "output_type": "execute_result"
    },
    {
     "data": {
      "text/plain": [
       "<Figure size 640x480 with 1 Axes>"
      ],
      "image/png": "[encoded data removed]"
     },
     "metadata": {},
     "output_type": "display_data"
    }
   ],
   "execution_count": 6
  },
  {
   "metadata": {
    "ExecuteTime": {
     "end_time": "2024-05-15T17:13:10.032414Z",
     "start_time": "2024-05-15T17:13:10.027516Z"
    }
   },
   "cell_type": "code",
   "source": [
    "train_titles[:2]"
   ],
   "id": "6c6fd3cfb68c15c7",
   "outputs": [
    {
     "data": {
      "text/plain": [
       "array(['AMD Debuts Dual-Core Opteron Processor',\n",
       "       \"Wood's Suspension Upheld (Reuters)\"], dtype='<U115')"
      ]
     },
     "execution_count": 7,
     "metadata": {},
     "output_type": "execute_result"
    }
   ],
   "execution_count": 7
  },
  {
   "metadata": {
    "ExecuteTime": {
     "end_time": "2024-05-15T17:26:37.184545Z",
     "start_time": "2024-05-15T17:26:35.282986Z"
    }
   },
   "cell_type": "code",
   "source": [
    "from reviews import wrangle_data\n",
    "word_dimension = 9000 # about 95% fluency\n",
    "sequence_length = 45\n",
    "\n",
    "# oov == out of value token\n",
    "tokenizer = tf.keras.preprocessing.text.Tokenizer(num_words=word_dimension, oov_token='~~~')\n",
    "tokenizer.fit_on_texts(train_titles)\n",
    "\n",
    "train_data, train_labels, train_tokens = wrangle_data(tokenizer, train_titles, train_labels, sequence_length)\n",
    "test_data, test_labels, test_tokens = wrangle_data(tokenizer, test_titles, test_labels, sequence_length)"
   ],
   "id": "21e993b570183285",
   "outputs": [],
   "execution_count": 24
  },
  {
   "metadata": {
    "ExecuteTime": {
     "end_time": "2024-05-15T17:26:37.189079Z",
     "start_time": "2024-05-15T17:26:37.185713Z"
    }
   },
   "cell_type": "code",
   "source": [
    "train_labels.shape"
   ],
   "id": "434f8331000b3eb5",
   "outputs": [
    {
     "data": {
      "text/plain": [
       "(120000,)"
      ]
     },
     "execution_count": 25,
     "metadata": {},
     "output_type": "execute_result"
    }
   ],
   "execution_count": 25
  },
  {
   "metadata": {
    "ExecuteTime": {
     "end_time": "2024-05-15T17:26:37.481897Z",
     "start_time": "2024-05-15T17:26:37.479418Z"
    }
   },
   "cell_type": "code",
   "source": [
    "import math\n",
    "\n",
    "def fourth_root(n):\n",
    "    return math.pow(n, 0.25)"
   ],
   "id": "9c98b6b99ed9ad9",
   "outputs": [],
   "execution_count": 26
  },
  {
   "metadata": {
    "ExecuteTime": {
     "end_time": "2024-05-15T17:26:38.372238Z",
     "start_time": "2024-05-15T17:26:38.312432Z"
    }
   },
   "cell_type": "code",
   "source": [
    "from reviews import save_model, save_history\n",
    "# Build the model\n",
    "\n",
    "def compile_model(model):\n",
    "    model.compile(optimizer='adam', loss='sparse_categorical_crossentropy', metrics=['accuracy'])\n",
    "    print(model.summary())\n",
    "    return model\n",
    "\n",
    "def cnn_model(word_dimension, embedding_dimension, sequence_length):\n",
    "    model = tf.keras.Sequential([\n",
    "        tf.keras.layers.Embedding(word_dimension, embedding_dimension, input_length=sequence_length),\n",
    "        tf.keras.layers.Conv1D(filters=128, kernel_size=8, activation='relu'),\n",
    "        tf.keras.layers.GlobalAveragePooling1D(),\n",
    "        tf.keras.layers.Dense(32, activation='relu'),\n",
    "        tf.keras.layers.Dropout(0.5),\n",
    "        tf.keras.layers.Dense(4, activation='sigmoid')\n",
    "    ])\n",
    "\n",
    "    return compile_model(model)\n",
    "\n",
    "# CNN model\n",
    "model_name = \"ag-news-cnn\"\n",
    "\n",
    "earlystop = tf.keras.callbacks.EarlyStopping('val_loss', patience=3, restore_best_weights=True)\n",
    "checkpoint = tf.keras.callbacks.ModelCheckpoint(filepath=f'ckpts/reviews/{model_name}-'+'{epoch:02d}-{val_accuracy:.4f}')\n",
    "embedding_dimension = int(fourth_root(word_dimension))\n",
    "\n",
    "cnn = cnn_model(word_dimension, embedding_dimension, sequence_length)"
   ],
   "id": "487cd08daefc8719",
   "outputs": [
    {
     "name": "stdout",
     "output_type": "stream",
     "text": [
      "Model: \"sequential_5\"\n",
      "_________________________________________________________________\n",
      " Layer (type)                Output Shape              Param #   \n",
      "=================================================================\n",
      " embedding_5 (Embedding)     (None, 45, 9)             81000     \n",
      "                                                                 \n",
      " conv1d_5 (Conv1D)           (None, 38, 128)           9344      \n",
      "                                                                 \n",
      " global_average_pooling1d_5  (None, 128)               0         \n",
      "  (GlobalAveragePooling1D)                                       \n",
      "                                                                 \n",
      " dense_10 (Dense)            (None, 32)                4128      \n",
      "                                                                 \n",
      " dropout_5 (Dropout)         (None, 32)                0         \n",
      "                                                                 \n",
      " dense_11 (Dense)            (None, 4)                 132       \n",
      "                                                                 \n",
      "=================================================================\n",
      "Total params: 94604 (369.55 KB)\n",
      "Trainable params: 94604 (369.55 KB)\n",
      "Non-trainable params: 0 (0.00 Byte)\n",
      "_________________________________________________________________\n",
      "None\n"
     ]
    }
   ],
   "execution_count": 27
  },
  {
   "metadata": {
    "ExecuteTime": {
     "end_time": "2024-05-15T17:27:14.810346Z",
     "start_time": "2024-05-15T17:26:40.278227Z"
    }
   },
   "cell_type": "code",
   "source": [
    "\n",
    "history_cnn = cnn.fit(train_data, train_labels, validation_split=0.1, epochs=25, callbacks=[earlystop, checkpoint],\n",
    "                        batch_size=64)\n",
    "\n",
    "save_model(cnn, model_name, history_cnn, test_data, test_labels)\n",
    "save_history(history_cnn, model_name)"
   ],
   "id": "d28492d80f441436",
   "outputs": [
    {
     "name": "stdout",
     "output_type": "stream",
     "text": [
      "Epoch 1/25\n",
      "1671/1688 [============================>.] - ETA: 0s - loss: 0.7756 - accuracy: 0.6966INFO:tensorflow:Assets written to: ckpts/reviews/ag-news-cnn-01-0.8480/assets\n"
     ]
    },
    {
     "name": "stderr",
     "output_type": "stream",
     "text": [
      "INFO:tensorflow:Assets written to: ckpts/reviews/ag-news-cnn-01-0.8480/assets\n"
     ]
    },
    {
     "name": "stdout",
     "output_type": "stream",
     "text": [
      "1688/1688 [==============================] - 5s 3ms/step - loss: 0.7733 - accuracy: 0.6980 - val_loss: 0.4628 - val_accuracy: 0.8480\n",
      "Epoch 2/25\n",
      "1682/1688 [============================>.] - ETA: 0s - loss: 0.4765 - accuracy: 0.8476INFO:tensorflow:Assets written to: ckpts/reviews/ag-news-cnn-02-0.8627/assets\n"
     ]
    },
    {
     "name": "stderr",
     "output_type": "stream",
     "text": [
      "INFO:tensorflow:Assets written to: ckpts/reviews/ag-news-cnn-02-0.8627/assets\n"
     ]
    },
    {
     "name": "stdout",
     "output_type": "stream",
     "text": [
      "1688/1688 [==============================] - 5s 3ms/step - loss: 0.4762 - accuracy: 0.8476 - val_loss: 0.4144 - val_accuracy: 0.8627\n",
      "Epoch 3/25\n",
      "1679/1688 [============================>.] - ETA: 0s - loss: 0.4147 - accuracy: 0.8666INFO:tensorflow:Assets written to: ckpts/reviews/ag-news-cnn-03-0.8633/assets\n"
     ]
    },
    {
     "name": "stderr",
     "output_type": "stream",
     "text": [
      "INFO:tensorflow:Assets written to: ckpts/reviews/ag-news-cnn-03-0.8633/assets\n"
     ]
    },
    {
     "name": "stdout",
     "output_type": "stream",
     "text": [
      "1688/1688 [==============================] - 6s 3ms/step - loss: 0.4151 - accuracy: 0.8666 - val_loss: 0.4062 - val_accuracy: 0.8633\n",
      "Epoch 4/25\n",
      "1678/1688 [============================>.] - ETA: 0s - loss: 0.3848 - accuracy: 0.8729INFO:tensorflow:Assets written to: ckpts/reviews/ag-news-cnn-04-0.8633/assets\n"
     ]
    },
    {
     "name": "stderr",
     "output_type": "stream",
     "text": [
      "INFO:tensorflow:Assets written to: ckpts/reviews/ag-news-cnn-04-0.8633/assets\n"
     ]
    },
    {
     "name": "stdout",
     "output_type": "stream",
     "text": [
      "1688/1688 [==============================] - 6s 4ms/step - loss: 0.3850 - accuracy: 0.8728 - val_loss: 0.4065 - val_accuracy: 0.8633\n",
      "Epoch 5/25\n",
      "1670/1688 [============================>.] - ETA: 0s - loss: 0.3627 - accuracy: 0.8787INFO:tensorflow:Assets written to: ckpts/reviews/ag-news-cnn-05-0.8633/assets\n"
     ]
    },
    {
     "name": "stderr",
     "output_type": "stream",
     "text": [
      "INFO:tensorflow:Assets written to: ckpts/reviews/ag-news-cnn-05-0.8633/assets\n"
     ]
    },
    {
     "name": "stdout",
     "output_type": "stream",
     "text": [
      "1688/1688 [==============================] - 6s 3ms/step - loss: 0.3625 - accuracy: 0.8786 - val_loss: 0.4220 - val_accuracy: 0.8633\n",
      "Epoch 6/25\n",
      "1669/1688 [============================>.] - ETA: 0s - loss: 0.3419 - accuracy: 0.8855INFO:tensorflow:Assets written to: ckpts/reviews/ag-news-cnn-06-0.8629/assets\n"
     ]
    },
    {
     "name": "stderr",
     "output_type": "stream",
     "text": [
      "INFO:tensorflow:Assets written to: ckpts/reviews/ag-news-cnn-06-0.8629/assets\n"
     ]
    },
    {
     "name": "stdout",
     "output_type": "stream",
     "text": [
      "1688/1688 [==============================] - 6s 3ms/step - loss: 0.3419 - accuracy: 0.8854 - val_loss: 0.4288 - val_accuracy: 0.8629\n",
      "238/238 [==============================] - 0s 770us/step - loss: 0.4116 - accuracy: 0.8613\n",
      "INFO:tensorflow:Assets written to: models/reviews-ag-news-cnn-6-0.8613.tf/assets\n"
     ]
    },
    {
     "name": "stderr",
     "output_type": "stream",
     "text": [
      "INFO:tensorflow:Assets written to: models/reviews-ag-news-cnn-6-0.8613.tf/assets\n"
     ]
    }
   ],
   "execution_count": 28
  },
  {
   "metadata": {
    "ExecuteTime": {
     "end_time": "2024-05-15T17:27:43.238644Z",
     "start_time": "2024-05-15T17:27:42.905768Z"
    }
   },
   "cell_type": "code",
   "source": [
    "# plot the training history\n",
    "from history import plot_history\n",
    "plot_history(history_cnn)"
   ],
   "id": "de5182b493738c9",
   "outputs": [
    {
     "data": {
      "text/plain": [
       "<Figure size 2400x800 with 2 Axes>"
      ],
      "image/png": "[encoded data removed]"
     },
     "metadata": {},
     "output_type": "display_data"
    }
   ],
   "execution_count": 30
  },
  {
   "metadata": {
    "ExecuteTime": {
     "end_time": "2024-05-15T17:28:02.947920Z",
     "start_time": "2024-05-15T17:28:02.723481Z"
    }
   },
   "cell_type": "code",
   "source": [
    "# evaluate on test data\n",
    "loss, accuracy = cnn.evaluate(test_data, test_labels)\n",
    "print(f'Test Loss: {loss}, Test Accuracy: {accuracy}')"
   ],
   "id": "729ddac16fbff9ff",
   "outputs": [
    {
     "name": "stdout",
     "output_type": "stream",
     "text": [
      "238/238 [==============================] - 0s 729us/step - loss: 0.4116 - accuracy: 0.8613\n",
      "Test Loss: 0.41159871220588684, Test Accuracy: 0.8613157868385315\n"
     ]
    }
   ],
   "execution_count": 31
  }
 ],
 "metadata": {
  "kernelspec": {
   "display_name": "Python 3",
   "language": "python",
   "name": "python3"
  },
  "language_info": {
   "codemirror_mode": {
    "name": "ipython",
    "version": 2
   },
   "file_extension": ".py",
   "mimetype": "text/x-python",
   "name": "python",
   "nbconvert_exporter": "python",
   "pygments_lexer": "ipython2",
   "version": "2.7.6"
  }
 },
 "nbformat": 4,
 "nbformat_minor": 5
}
